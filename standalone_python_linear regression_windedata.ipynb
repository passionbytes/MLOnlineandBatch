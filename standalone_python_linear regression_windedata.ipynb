{
 "cells": [
  {
   "cell_type": "code",
   "execution_count": null,
   "metadata": {},
   "outputs": [],
   "source": [
    "%pylab inline"
   ]
  },
  {
   "cell_type": "code",
   "execution_count": null,
   "metadata": {},
   "outputs": [],
   "source": [
    "import pandas as pd\n",
    "import io\n",
    "import requests\n",
    "url = \"https://archive.ics.uci.edu/ml/machine-learning-databases/wine/wine.data\"\n",
    "data = requests.get(url).content\n",
    "df_wine = pd.read_csv(io.StringIO(data.decode('utf-8')))\n",
    "columns = ['Class label', 'Alcohol', 'Malic acid', 'Ash',\n",
    "       'Alcalinity of ash', 'Magnesium', 'Total phenols', 'Flavanoids',\n",
    "       'Nonflavanoid phenols', 'Proanthocyanins', 'Color intensity', 'Hue',\n",
    "       'OD280/OD315 of diluted wines','Proline']\n",
    "df_wine.columns = columns\n",
    "df_wine.head()\n"
   ]
  },
  {
   "cell_type": "code",
   "execution_count": null,
   "metadata": {},
   "outputs": [],
   "source": [
    "print('Class labels', np.unique(df_wine['Class label']))"
   ]
  },
  {
   "cell_type": "code",
   "execution_count": null,
   "metadata": {},
   "outputs": [],
   "source": [
    "from sklearn.model_selection import train_test_split\n",
    "X, y = df_wine.iloc[:, 1:].values, df_wine.iloc[:, 0].values\n",
    "X_train, X_test, y_train, y_test = \\\n",
    "        train_test_split(X, y, test_size=0.3, random_state=0)"
   ]
  },
  {
   "cell_type": "code",
   "execution_count": null,
   "metadata": {},
   "outputs": [],
   "source": [
    "len(X_test), len(X_train)\n"
   ]
  },
  {
   "cell_type": "code",
   "execution_count": null,
   "metadata": {},
   "outputs": [],
   "source": [
    "df_wine.iloc[:, 0].values"
   ]
  },
  {
   "cell_type": "code",
   "execution_count": null,
   "metadata": {},
   "outputs": [],
   "source": [
    "import matplotlib.pyplot as plt\n",
    "plt.figure(figsize=(15, 5));\n",
    "plt.subplot(1,2,1);\n",
    "plt.plot(df_wine.Magnesium.values[:5], color='red', label='Magnesium')\n",
    "\n",
    "plt.title('Without Effect of Normalization')\n",
    "plt.xlabel('x values')\n",
    "plt.ylabel('y values')\n",
    "plt.legend(loc='best')\n",
    "plt.show()"
   ]
  },
  {
   "cell_type": "code",
   "execution_count": null,
   "metadata": {},
   "outputs": [],
   "source": [
    "from sklearn.preprocessing import MinMaxScaler\n",
    "mms = MinMaxScaler()\n",
    "X_train_norm = mms.fit_transform(X_train)\n",
    "X_test_norm = mms.transform(X_test)"
   ]
  },
  {
   "cell_type": "code",
   "execution_count": null,
   "metadata": {},
   "outputs": [],
   "source": [
    "import matplotlib.pyplot as plt\n",
    "mydf = pd.DataFrame(X_train_norm)\n",
    "\n",
    "plt.figure(figsize=(15, 5));\n",
    "plt.subplot(1,2,1);\n",
    "plt.plot(mydf[5].values[:5], color='red', label='Magnesium')\n",
    "plt.title('Effect of Normalization')\n",
    "plt.xlabel('x values')\n",
    "plt.ylabel('y values')\n",
    "plt.legend(loc='best')\n",
    "plt.show()"
   ]
  },
  {
   "cell_type": "code",
   "execution_count": null,
   "metadata": {},
   "outputs": [],
   "source": [
    "from sklearn.preprocessing import StandardScaler\n",
    "stdsc = StandardScaler()\n",
    "X_train_std = stdsc.fit_transform(X_train)\n",
    "X_test_std = stdsc.transform(X_test)"
   ]
  },
  {
   "cell_type": "code",
   "execution_count": null,
   "metadata": {},
   "outputs": [],
   "source": [
    "xx = np.arange(len(X_train_std))\n",
    "yy1 = X_train_norm[:,1]\n",
    "yy2 = X_train_std[:,1]\n",
    "scatter(xx, yy1, color='b')\n",
    "scatter(xx, yy2, color='r')"
   ]
  },
  {
   "cell_type": "code",
   "execution_count": null,
   "metadata": {},
   "outputs": [],
   "source": [
    "from sklearn.linear_model import LogisticRegression\n",
    "model = LogisticRegression(penalty='l1', C=0.1) #L1 as paramenetr indicated L1 regularization\n",
    "model.fit(X_train_std, y_train)\n",
    "trainacc = model.score(X_train_std, y_train)\n",
    "testacc = model.score(X_test_std, y_test)\n",
    "print('Training accuracy:', trainacc)\n",
    "print('Test accuracy:', testacc)"
   ]
  },
  {
   "cell_type": "code",
   "execution_count": null,
   "metadata": {},
   "outputs": [],
   "source": [
    "model_input = df_wine.head(1)\n",
    "model_input.drop('Class label', axis = 1, inplace= True)\n",
    "output= model.predict(model_input)\n",
    "print(output)"
   ]
  },
  {
   "cell_type": "code",
   "execution_count": null,
   "metadata": {},
   "outputs": [],
   "source": [
    "import pandas as pd\n",
    "import io\n",
    "import requests\n",
    "url = \"https://archive.ics.uci.edu/ml/machine-learning-databases/wine/wine.data\"\n",
    "data = requests.get(url).content\n",
    "df_wine = pd.read_csv(io.StringIO(data.decode('utf-8')))\n",
    "columns = ['Class label', 'Alcohol', 'Malic acid', 'Ash',\n",
    "       'Alcalinity of ash', 'Magnesium', 'Total phenols', 'Flavanoids',\n",
    "       'Nonflavanoid phenols', 'Proanthocyanins', 'Color intensity', 'Hue',\n",
    "       'OD280/OD315 of diluted wines','Proline']\n",
    "\n",
    "df_wine.columns = columns"
   ]
  },
  {
   "cell_type": "code",
   "execution_count": null,
   "metadata": {},
   "outputs": [],
   "source": [
    "import sklearn.model_selection as model_selection\n",
    "#split data for training, remove extras\n",
    "\n",
    "wine_x = df_wine.drop(['Class label'], axis=1)\n",
    "wine_y = df_wine['Class label']\n",
    "\n",
    "wine_x_train, wine_x_test, wine_y_train, wine_y_test = model_selection.train_test_split(wine_x,\n",
    "                                                                            wine_y,\n",
    "                                                                            train_size=0.7,\n",
    "                                                                            test_size=0.3,\n",
    "                                                                            random_state=0)\n",
    "\n"
   ]
  },
  {
   "cell_type": "code",
   "execution_count": null,
   "metadata": {},
   "outputs": [],
   "source": [
    "#### THIS IS WHERE WE PREINTIALIZE THE SCALAR ### ALSO NOTE WE ARE ASSUMING NO CATEGORICAL VALUE###\n",
    "#### IF THERE ARE CATEGORICAL VALUES, YOU MAY USE ONEHOTENCODER or ORDINALENCODER etc ###\n",
    "from sklearn.impute import SimpleImputer\n",
    "from sklearn.preprocessing import StandardScaler\n",
    "fitted_scaler = StandardScaler()\n",
    "fitted_scaler = fitted_scaler.fit(wine_x_train)"
   ]
  },
  {
   "cell_type": "code",
   "execution_count": null,
   "metadata": {},
   "outputs": [],
   "source": [
    "def pre_process(df,\n",
    "                columns,\n",
    "                fitted_scaler):\n",
    "    ##Handle your preprocessing logic here, like identifying NaN, nulls etc\n",
    "    ## scale the columns with the pre-built scaler\n",
    "    _df = df.copy()\n",
    "    _df = df[set(columns)].copy()\n",
    "    _df = fitted_scaler.transform(_df)\n",
    "\n",
    "    \n",
    "    return _df"
   ]
  },
  {
   "cell_type": "code",
   "execution_count": null,
   "metadata": {},
   "outputs": [],
   "source": [
    "wine_x_train_clean = pre_process(df = wine_x_train,\n",
    "                                 columns = wine_x.columns,\n",
    "                                 fitted_scaler = fitted_scaler)\n",
    "\n",
    "wine_x_test_clean = pre_process(df = wine_x_test,\n",
    "                                columns = wine_x.columns,\n",
    "                                fitted_scaler = fitted_scaler)"
   ]
  },
  {
   "cell_type": "code",
   "execution_count": null,
   "metadata": {},
   "outputs": [],
   "source": [
    "import mlflow.pyfunc\n",
    "class wineModel(mlflow.pyfunc.PythonModel):\n",
    "   \n",
    "    ## defining objects needed for wineModel prediction. \n",
    "    def __init__(self,\n",
    "                 model,\n",
    "                 columns,\n",
    "                 fitted_scaler,\n",
    "                 pre_process):\n",
    "        \n",
    "        ## Setting up all needed objects\n",
    "        self.model = model\n",
    "        self.columns = columns\n",
    "        self.fitted_scaler = fitted_scaler\n",
    "        self.pre_process = pre_process\n",
    "    \n",
    "    ## define function with processing and feeding data into prediction at the end\n",
    "    def predict(self,context,model_input):\n",
    "        \n",
    "       \n",
    "        # run inputted dataset through our processing function\n",
    "        # note: we are excluding the response columns here since not needed for deploy\n",
    "        model_input_processed = self.pre_process(\n",
    "                                   df = model_input,\n",
    "                                   columns = self.columns,\n",
    "                                   fitted_scaler = self.fitted_scaler)       \n",
    "        \n",
    "        # finally input the cleaned/adjusted dataset into our model for prediction\n",
    "        obj = self.model.predict(model_input_processed)\n",
    "        x = postprocess(obj)\n",
    "        #return self.model.predict(model_input_processed)\n",
    "        return x"
   ]
  },
  {
   "cell_type": "code",
   "execution_count": null,
   "metadata": {},
   "outputs": [],
   "source": [
    "def postprocess(obj):\n",
    "    result = obj.tostring()\n",
    "    #WRITE WHATEVER YOU LIKE - FINDING THRESHOLD, SAVING TO DB ETC\n",
    "    list = []  \n",
    "    for x in obj :\n",
    "        result = x \n",
    "        print(result)\n",
    "        if result == 1:\n",
    "            list.append('Class Label 1 Wine')\n",
    "        elif result == 2:\n",
    "            list.append('Class Label 2 Wine')\n",
    "        else:\n",
    "            list.append('Class Label 3 Wine')\n",
    "    return numpy.array(list)   "
   ]
  },
  {
   "cell_type": "code",
   "execution_count": null,
   "metadata": {},
   "outputs": [],
   "source": [
    "# define specific python and package versions for environment\n",
    "mlflow_conda_env = {\n",
    " 'name': 'mlflow-env',\n",
    " 'channels': ['defaults'],\n",
    " 'dependencies': ['python=3.6.2', {'pip': ['mlflow==1.10.0','scikit-learn','cloudpickle==1.5.0', 'numpy']}]\n",
    "}"
   ]
  },
  {
   "cell_type": "code",
   "execution_count": null,
   "metadata": {},
   "outputs": [],
   "source": [
    "import mlflow\n",
    "import numpy\n",
    "%env MLFLOW_S3_ENDPOINT_URL=http://localhost:9000\n",
    "%env AWS_ACCESS_KEY_ID=1B80PP32Z5VV6NJA6ABE\n",
    "%env AWS_SECRET_ACCESS_KEY=fo0mwSE+MAWmNdhNJH0cY8qxXcj+sxbeKrZCk6Vl\n",
    "%env MLFLOW_URL= http://localhost:5000\n",
    "\n",
    "\n",
    "mlflow.set_tracking_uri(\"http://localhost:5000\")\n",
    "mlflow.set_experiment(\"ravion-Aug30-1\")\n",
    "with mlflow.start_run(run_name=\"Winde Model with Pre and Post Processing\") as run:\n",
    "            \n",
    "    # log the performance metrics that we calculated earlier\n",
    "    mlflow.log_metric(\"accuracy\", trainacc)\n",
    "    mlflow.log_metric(\"auc_score\", testacc)\n",
    "    \n",
    "    # log model with all objects referenced in the leadsModel class\n",
    "    mlflow.pyfunc.log_model(\n",
    "        artifact_path = \"wine_pyfunc\",\n",
    "        python_model = wineModel( model = model,\n",
    "                                  columns = wine_x.columns,\n",
    "                                  fitted_scaler = fitted_scaler,\n",
    "                                  pre_process = pre_process\n",
    "                                 ),\n",
    "        conda_env = mlflow_conda_env\n",
    "    )\n",
    "    \n",
    "    # save run_id and experiment_id for deployment\n",
    "    run_id = run.info.run_uuid\n",
    "    experiment_id = run.info.experiment_id\n",
    "    \n",
    "    # end the mlflow run!\n",
    "    mlflow.end_run()"
   ]
  },
  {
   "cell_type": "code",
   "execution_count": null,
   "metadata": {},
   "outputs": [],
   "source": [
    "mlflow.end_run()"
   ]
  },
  {
   "cell_type": "code",
   "execution_count": null,
   "metadata": {},
   "outputs": [],
   "source": [
    "import requests\n",
    "def query_local_endpoint(input_json):\n",
    "    response = requests.post('http://localhost:1234/invocations'\n",
    "                           , headers = {'Content-Type': 'application/json'} \n",
    "                           , data=input_json)\n",
    "    print(response)\n",
    "    preds = response.json()\n",
    "    return preds"
   ]
  },
  {
   "cell_type": "code",
   "execution_count": null,
   "metadata": {},
   "outputs": [],
   "source": [
    "model_input = wine_x.head(1)\n",
    "print(model_input)\n",
    "output=query_local_endpoint(model_input.to_json(orient=\"split\"))\n",
    "print(output)"
   ]
  },
  {
   "cell_type": "code",
   "execution_count": null,
   "metadata": {},
   "outputs": [],
   "source": [
    "import os\n",
    "import sys\n",
    "os.environ['PYSPARK_PYTHON']= \"/Users/ravishankarnair/anaconda3/envs/py36/bin/python3\"\n",
    "os.environ['PYSPARK_DRIVER_PYTHON']= \"/Users/ravishankarnair/anaconda3/envs/py36/bin/python3\"\n",
    "os.environ['PYLIB'] = os.environ['SPARK_HOME'] + \"/python/lib\"\n",
    "sys.path.insert(0,os.environ['PYLIB'] + 'py4j-0.10.9-src.zip')\n",
    "sys.path.insert(0,os.environ['PYLIB'] + 'pyspark.zip')\n",
    "from pyspark.sql import SparkSession\n",
    "spark = SparkSession.builder \\\n",
    "        .master(\"spark://ravion.local:7077\") \\\n",
    "        .appName(\"OneClickBatchExecution\") \\\n",
    "        .config(\"spark.executor.memory\", \"5G\") \\\n",
    "        .config(\"spark.driver.memory\", \"5G\") \\\n",
    "        .config(\"spark.sql.execution.arrow.pyspark.enabled\", \"true\") \\\n",
    "        .getOrCreate()\n",
    "spark\n",
    " "
   ]
  },
  {
   "cell_type": "code",
   "execution_count": null,
   "metadata": {},
   "outputs": [],
   "source": [
    "wine_x.columns"
   ]
  },
  {
   "cell_type": "code",
   "execution_count": null,
   "metadata": {},
   "outputs": [],
   "source": [
    "from pyspark.sql.types import ArrayType, FloatType, StringType, StructField, StructType\n",
    "from pyspark.sql.functions import udf, struct\n",
    "\n",
    "# SYNTAX: spark_udf(spark, model_uri, result_type=\"<whatever type>\") \n",
    "pyfunc_udf = mlflow.pyfunc.spark_udf(spark = spark, model_uri='s3://sample/19/1c47cf5cd059441baf78338a5dfce4fe/artifacts/wine_pyfunc', result_type=ArrayType(StringType()))\n",
    "\n",
    "dataframe = spark.createDataFrame(wine_x)\n",
    "#dataframe.columns\n",
    "#dataframe.schema\n",
    "\n",
    "#df = dataframe.withColumn(\"prediction\", pyfunc_udf(struct('Alcohol', 'Malic acid', 'Ash', 'Alcalinity of ash', 'Magnesium', 'Total phenols', 'Flavanoids', 'Nonflavanoid phenols', 'Proanthocyanins', 'Color intensity', 'Hue', 'OD280/OD315 of diluted wines', 'Proline')))\n",
    "df = dataframe.withColumn(\"prediction\", pyfunc_udf(struct(dataframe.columns)))\n"
   ]
  },
  {
   "cell_type": "code",
   "execution_count": null,
   "metadata": {},
   "outputs": [],
   "source": [
    "df.head(1)"
   ]
  },
  {
   "cell_type": "markdown",
   "metadata": {},
   "source": [
    "# import boto3\n",
    "from botocore.client import Config\n",
    "\n",
    "\n",
    "s3 = boto3.resource('s3',\n",
    "                    endpoint_url='http://localhost:9000',\n",
    "                    aws_access_key_id='1B80PP32Z5VV6NJA6ABE',\n",
    "                    aws_secret_access_key='fo0mwSE+MAWmNdhNJH0cY8qxXcj+sxbeKrZCk6Vl',\n",
    "                    config=Config(signature_version='s3v4'),\n",
    "                    region_name='us-east-1')\n",
    "for bucket in s3.buckets.all():\n",
    "    print(bucket.name)\n",
    "\n",
    "print(wine.col_names)"
   ]
  },
  {
   "cell_type": "code",
   "execution_count": null,
   "metadata": {},
   "outputs": [],
   "source": [
    "\n",
    "loaded_model = mlflow.pyfunc.load_model('s3://sample/5/8e5241f88d6b4d7dab043a73a03d962b/artifacts/claims_pyfunc')"
   ]
  },
  {
   "cell_type": "code",
   "execution_count": null,
   "metadata": {},
   "outputs": [],
   "source": [
    "import yaml"
   ]
  },
  {
   "cell_type": "code",
   "execution_count": null,
   "metadata": {},
   "outputs": [],
   "source": [
    "yaml.safe_dump"
   ]
  },
  {
   "cell_type": "code",
   "execution_count": null,
   "metadata": {},
   "outputs": [],
   "source": []
  }
 ],
 "metadata": {
  "kernelspec": {
   "display_name": "Python 3",
   "language": "python",
   "name": "python3"
  },
  "language_info": {
   "codemirror_mode": {
    "name": "ipython",
    "version": 3
   },
   "file_extension": ".py",
   "mimetype": "text/x-python",
   "name": "python",
   "nbconvert_exporter": "python",
   "pygments_lexer": "ipython3",
   "version": "3.6.8"
  }
 },
 "nbformat": 4,
 "nbformat_minor": 2
}
